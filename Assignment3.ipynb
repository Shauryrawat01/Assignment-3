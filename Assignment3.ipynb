{
 "cells": [
  {
   "cell_type": "code",
   "execution_count": 14,
   "id": "202b7849-4008-4b34-9ab3-f4ed79a394d3",
   "metadata": {},
   "outputs": [],
   "source": [
    "#Question 1\n",
    "#\"def\" keybord is used to create a function\n",
    "def odd():\n",
    "    l1 = []\n",
    "    for i in range(1, 26):\n",
    "        if i % 2 != 0:\n",
    "            l1.append(i)\n",
    "    return l1"
   ]
  },
  {
   "cell_type": "code",
   "execution_count": 15,
   "id": "9f0efed0-a1a2-4c0b-b6b1-85f663663620",
   "metadata": {},
   "outputs": [
    {
     "data": {
      "text/plain": [
       "[1, 3, 5, 7, 9, 11, 13, 15, 17, 19, 21, 23, 25]"
      ]
     },
     "execution_count": 15,
     "metadata": {},
     "output_type": "execute_result"
    }
   ],
   "source": [
    "odd()"
   ]
  },
  {
   "cell_type": "code",
   "execution_count": 16,
   "id": "5060f5e9-45cb-4683-a4e1-4ab4845acd09",
   "metadata": {},
   "outputs": [],
   "source": [
    "#QUESTION 2\n",
    "#for infinite data argument use *args\n",
    "#we can use any other element in this case like *shaury and return shaury\n",
    "def rohan(*args):\n",
    "    return args"
   ]
  },
  {
   "cell_type": "code",
   "execution_count": 17,
   "id": "8a582702-49ba-497b-9133-02cf630dded3",
   "metadata": {},
   "outputs": [
    {
     "data": {
      "text/plain": [
       "(1, 2, 3, 6, 5, 56, 6, 5, 65, 'rama', 5.23, 54)"
      ]
     },
     "execution_count": 17,
     "metadata": {},
     "output_type": "execute_result"
    }
   ],
   "source": [
    "rohan(1,2,3,6,5,56,6,5,65,\"rama\",5.23,54)"
   ]
  },
  {
   "cell_type": "code",
   "execution_count": 18,
   "id": "e7c56c80-7490-47e6-b21d-4ad6e2cd3fb8",
   "metadata": {},
   "outputs": [],
   "source": [
    "#for return data in form dic use **as argument\n",
    "def raja10(**shaury):\n",
    "    return shaury"
   ]
  },
  {
   "cell_type": "code",
   "execution_count": 19,
   "id": "7fd24076-3b32-43bc-a76a-e4c6dcfd284a",
   "metadata": {},
   "outputs": [
    {
     "data": {
      "text/plain": [
       "{'b': 'rawat', 'c': 1, 'd': 25.23}"
      ]
     },
     "execution_count": 19,
     "metadata": {},
     "output_type": "execute_result"
    }
   ],
   "source": [
    "raja10(b=\"rawat\",c=1,d=25.23)"
   ]
  },
  {
   "cell_type": "code",
   "execution_count": 25,
   "id": "279d236b-d19d-4665-85d5-c3bb5c669059",
   "metadata": {},
   "outputs": [],
   "source": [
    "#Question 3\n",
    "#iterator is an object that allows iteration in a sequence of elements.\n",
    "list = [2, 4, 6, 8, 10, 12, 14, 16, 18, 20]\n",
    "iterator = iter(list)\n",
    "\n",
    "# Iterate elements using next() method\n",
    "for i in range(5):\n",
    "    a = next(iterator)"
   ]
  },
  {
   "cell_type": "code",
   "execution_count": 28,
   "id": "b4e2ac63-bede-4dd0-a35c-9314fa0a8ca9",
   "metadata": {},
   "outputs": [],
   "source": [
    "#Question 4\n",
    "#in generator function we use yield insted of return to create iterators\n",
    "#using while loop\n",
    "def feno():    \n",
    "    a,b =0,1\n",
    "    while True:\n",
    "        yield a    #this is use to store data \n",
    "        a,b = b,a+b"
   ]
  },
  {
   "cell_type": "code",
   "execution_count": 29,
   "id": "532b6cac-c4bf-497f-b41f-e328a1f5739a",
   "metadata": {},
   "outputs": [],
   "source": [
    "fib = feno()"
   ]
  },
  {
   "cell_type": "code",
   "execution_count": 30,
   "id": "0f4e758c-226f-4273-b14d-75c97aea278a",
   "metadata": {},
   "outputs": [
    {
     "name": "stdout",
     "output_type": "stream",
     "text": [
      "0\n",
      "1\n",
      "1\n",
      "2\n",
      "3\n",
      "5\n",
      "8\n",
      "13\n",
      "21\n",
      "34\n"
     ]
    }
   ],
   "source": [
    "for i in range(10):\n",
    "    print(next(fib))"
   ]
  },
  {
   "cell_type": "code",
   "execution_count": 38,
   "id": "e3f51a7e-c1ee-4852-8710-da0b1aec7ab8",
   "metadata": {},
   "outputs": [
    {
     "name": "stdout",
     "output_type": "stream",
     "text": [
      "2\n",
      "3\n",
      "5\n",
      "7\n",
      "11\n",
      "13\n",
      "17\n",
      "19\n",
      "23\n",
      "29\n",
      "31\n",
      "37\n",
      "41\n",
      "43\n",
      "47\n",
      "53\n",
      "59\n",
      "61\n",
      "67\n",
      "71\n"
     ]
    }
   ],
   "source": [
    "#Question 5\n",
    "def prime_no():\n",
    "    primes = []\n",
    "    for num in range(2, 1000):\n",
    "        if all(num % prime != 0 for prime in primes):\n",
    "            primes.append(num)\n",
    "            yield num\n",
    "\n",
    "# Create a generator object\n",
    "prime_gen = prime_no()\n",
    "\n",
    "# Print the first 20 prime numbers\n",
    "for _ in range(20):\n",
    "    prime = next(prime_gen)\n",
    "    print(prime)\n"
   ]
  },
  {
   "cell_type": "code",
   "execution_count": 39,
   "id": "c0559d4c-cecc-487f-898d-8f5c2156cd9a",
   "metadata": {},
   "outputs": [],
   "source": [
    "#question 6\n",
    "#using while loop\n",
    "def feno():    \n",
    "    a,b =0,1\n",
    "    while True:\n",
    "        yield a    #this is use to store data \n",
    "        a,b = b,a+b"
   ]
  },
  {
   "cell_type": "code",
   "execution_count": 40,
   "id": "accf6132-5951-4e0b-b0cb-d76b489e337f",
   "metadata": {},
   "outputs": [],
   "source": [
    "fib = feno()"
   ]
  },
  {
   "cell_type": "code",
   "execution_count": 41,
   "id": "a288e641-263b-4758-95a8-d8d143fe28bc",
   "metadata": {},
   "outputs": [
    {
     "name": "stdout",
     "output_type": "stream",
     "text": [
      "0\n",
      "1\n",
      "1\n",
      "2\n",
      "3\n",
      "5\n",
      "8\n",
      "13\n",
      "21\n",
      "34\n"
     ]
    }
   ],
   "source": [
    "for i in range(10):\n",
    "    print(next(fib))"
   ]
  },
  {
   "cell_type": "code",
   "execution_count": 45,
   "id": "2a927a1c-65c3-493a-bd63-7b3df578ec3f",
   "metadata": {},
   "outputs": [
    {
     "data": {
      "text/plain": [
       "['p', 'w', 's', 'k', 'i', 'l', 'l', 's']"
      ]
     },
     "execution_count": 45,
     "metadata": {},
     "output_type": "execute_result"
    }
   ],
   "source": [
    "#question 7\n",
    "a = 'pwskills'\n",
    "b = [char for char in a if char in 'pwskills']\n",
    "b"
   ]
  },
  {
   "cell_type": "code",
   "execution_count": 46,
   "id": "5f6042e3-f93e-4c3b-94dc-92723f3e09f7",
   "metadata": {},
   "outputs": [
    {
     "name": "stdin",
     "output_type": "stream",
     "text": [
      "Enter a number:  1235\n"
     ]
    },
    {
     "name": "stdout",
     "output_type": "stream",
     "text": [
      "1235 is not a palindrome\n"
     ]
    }
   ],
   "source": [
    "#question 8\n",
    "def is_palindrome(number):\n",
    "    original_number = number\n",
    "    reverse = 0\n",
    "\n",
    "    while number > 0:\n",
    "        remainder = number % 10\n",
    "        reverse = reverse * 10 + remainder\n",
    "        number //= 10\n",
    "\n",
    "    if original_number == reverse:\n",
    "        return True\n",
    "    else:\n",
    "        return False\n",
    "\n",
    "# Test the function\n",
    "number = int(input(\"Enter a number: \"))\n",
    "if is_palindrome(number):\n",
    "    print(number, \"is a palindrome\")\n",
    "else:\n",
    "    print(number, \"is not a palindrome\")"
   ]
  },
  {
   "cell_type": "code",
   "execution_count": 50,
   "id": "0f967b9a-3139-4891-89fb-9224c5585328",
   "metadata": {},
   "outputs": [
    {
     "ename": "TypeError",
     "evalue": "'list' object is not callable",
     "output_type": "error",
     "traceback": [
      "\u001b[1;31m---------------------------------------------------------------------------\u001b[0m",
      "\u001b[1;31mTypeError\u001b[0m                                 Traceback (most recent call last)",
      "Cell \u001b[1;32mIn[50], line 2\u001b[0m\n\u001b[0;32m      1\u001b[0m \u001b[38;5;66;03m#question 9\u001b[39;00m\n\u001b[1;32m----> 2\u001b[0m no\u001b[38;5;241m=\u001b[39m \u001b[38;5;28;43mlist\u001b[39;49m\u001b[43m(\u001b[49m\u001b[43mnum\u001b[49m\u001b[43m \u001b[49m\u001b[38;5;28;43;01mfor\u001b[39;49;00m\u001b[43m \u001b[49m\u001b[43mnum\u001b[49m\u001b[43m \u001b[49m\u001b[38;5;129;43;01min\u001b[39;49;00m\u001b[43m \u001b[49m\u001b[38;5;28;43mrange\u001b[39;49m\u001b[43m(\u001b[49m\u001b[38;5;241;43m1\u001b[39;49m\u001b[43m,\u001b[49m\u001b[43m \u001b[49m\u001b[38;5;241;43m101\u001b[39;49m\u001b[43m)\u001b[49m\u001b[43m \u001b[49m\u001b[38;5;28;43;01mif\u001b[39;49;00m\u001b[43m \u001b[49m\u001b[43mnum\u001b[49m\u001b[43m \u001b[49m\u001b[38;5;241;43m%\u001b[39;49m\u001b[43m \u001b[49m\u001b[38;5;241;43m2\u001b[39;49m\u001b[43m \u001b[49m\u001b[38;5;241;43m!=\u001b[39;49m\u001b[43m \u001b[49m\u001b[38;5;241;43m0\u001b[39;49m\u001b[43m)\u001b[49m\n\u001b[0;32m      3\u001b[0m no\n",
      "\u001b[1;31mTypeError\u001b[0m: 'list' object is not callable"
     ]
    }
   ],
   "source": [
    "#question 9\n",
    "no= list(num for num in range(1, 101) if num % 2 != 0)\n",
    "no"
   ]
  },
  {
   "cell_type": "code",
   "execution_count": null,
   "id": "0f4a11a9-9fbc-4d26-8eb4-a85293e8f24d",
   "metadata": {},
   "outputs": [],
   "source": []
  }
 ],
 "metadata": {
  "kernelspec": {
   "display_name": "Python 3 (ipykernel)",
   "language": "python",
   "name": "python3"
  },
  "language_info": {
   "codemirror_mode": {
    "name": "ipython",
    "version": 3
   },
   "file_extension": ".py",
   "mimetype": "text/x-python",
   "name": "python",
   "nbconvert_exporter": "python",
   "pygments_lexer": "ipython3",
   "version": "3.11.3"
  }
 },
 "nbformat": 4,
 "nbformat_minor": 5
}
